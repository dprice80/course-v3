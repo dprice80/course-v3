{
 "cells": [
  {
   "cell_type": "code",
   "execution_count": 17,
   "metadata": {},
   "outputs": [
    {
     "name": "stdout",
     "output_type": "stream",
     "text": [
      "Exception reporting mode: Plain\n"
     ]
    }
   ],
   "source": [
    "import pandas as pd\n",
    "\n",
    "import numpy as np\n",
    "from sklearn.compose import ColumnTransformer\n",
    "from sklearn.pipeline import Pipeline, FeatureUnion\n",
    "from sklearn.impute import SimpleImputer\n",
    "from sklearn.preprocessing import OneHotEncoder, StandardScaler, LabelEncoder\n",
    "from sklearn.model_selection import train_test_split\n",
    "from sklearn.metrics import roc_auc_score\n",
    "from sklearn.ensemble import (GradientBoostingClassifier, \n",
    "        RandomForestClassifier, RandomForestRegressor)\n",
    "from sklearn.base import BaseEstimator, TransformerMixin\n",
    "\n",
    "from fastai.vision import *\n",
    "from fastai.callbacks.hooks import *\n",
    "from fastai.utils.mem import *\n",
    "\n",
    "import matplotlib.pyplot as plt\n",
    "\n",
    "import xgboost as xgb\n",
    "\n",
    "%matplotlib inline\n",
    "%xmode Plain\n",
    "\n",
    "pd.set_option('display.max_columns', 100)"
   ]
  },
  {
   "cell_type": "code",
   "execution_count": 18,
   "metadata": {},
   "outputs": [
    {
     "name": "stdout",
     "output_type": "stream",
     "text": [
      "     image_name  patient_id     sex  age_approx anatom_site_general_challenge  \\\n",
      "0  ISIC_0355023  IP_9623174    male        45.0               lower extremity   \n",
      "1  ISIC_7508527  IP_5945442  female        35.0                         torso   \n",
      "2  ISIC_2541969  IP_8039381    male        65.0               upper extremity   \n",
      "3  ISIC_1495182  IP_0621614    male        40.0               lower extremity   \n",
      "4  ISIC_6845907  IP_6175417  female        45.0                  oral/genital   \n",
      "\n",
      "  diagnosis benign_malignant  target      prob  modclass  \n",
      "0   unknown           benign       0  0.000303         0  \n",
      "1     nevus           benign       0  0.001300         0  \n",
      "2   unknown           benign       0  0.000424         0  \n",
      "3   unknown           benign       0  0.002465         0  \n",
      "4   unknown           benign       0  0.000464         0  \n"
     ]
    }
   ],
   "source": [
    "path = Config.data_path()/'melclass'\n",
    "df = pd.read_csv(path/'predictions-resnet50-full-train-subset.csv')\n",
    "\n",
    "print(df.head())\n",
    "df.anatom_site_general_challenge.fillna('unknown', inplace=True)\n",
    "df.sex.fillna('unknown', inplace=True)\n",
    "df.age_approx.fillna(np.nanmean(df.age_approx), inplace=True)\n",
    "\n",
    "df.isnull().sum()\n",
    "\n",
    "numeric_cols = ['age_approx', 'prob']\n",
    "factor_cols = ['sex','anatom_site_general_challenge']\n",
    "feature_cols = numeric_cols + factor_cols"
   ]
  },
  {
   "cell_type": "code",
   "execution_count": 19,
   "metadata": {},
   "outputs": [],
   "source": [
    "num_pipeline = Pipeline([\n",
    "    ('replacenans', SimpleImputer(missing_values=np.nan, strategy='median')),\n",
    "    ('std_scaler', StandardScaler())\n",
    "    ])\n",
    "\n",
    "cat_pipeline = Pipeline([\n",
    "    ('onehot', OneHotEncoder(handle_unknown='ignore'))\n",
    "])\n",
    "\n",
    "preprocessor = ColumnTransformer([\n",
    "    # Input the numerical pipeline object as the processor (num_pipeline) for\n",
    "    # the numerical attributes (num_attribs)\n",
    "    # num_attribs and cat_attribs are lists of column names\n",
    "        (\"num\", num_pipeline, numeric_cols),\n",
    "        (\"cat\", cat_pipeline, factor_cols)\n",
    "    ])"
   ]
  },
  {
   "cell_type": "code",
   "execution_count": 20,
   "metadata": {},
   "outputs": [],
   "source": [
    "X_train, X_test, y_train, y_test = train_test_split(df, df['target'].values, \n",
    "    test_size = 0.5, random_state=42)\n",
    "\n",
    "X_proc = preprocessor.fit_transform(df[feature_cols])"
   ]
  },
  {
   "cell_type": "code",
   "execution_count": 21,
   "metadata": {},
   "outputs": [],
   "source": [
    "X_train_proc = preprocessor.transform(X_train[feature_cols])\n",
    "X_test_proc = preprocessor.transform(X_test[feature_cols])"
   ]
  },
  {
   "cell_type": "code",
   "execution_count": 22,
   "metadata": {},
   "outputs": [],
   "source": [
    "ratio = df.shape[0] / df.shape[1]\n",
    "\n",
    "model = xgb.XGBClassifier(\n",
    "    max_depth=3,\n",
    "    n_estimators=1000, \n",
    "    seed=1337, \n",
    "    learning_rate=0.3,\n",
    "    objective='binary:logistic', \n",
    "    eval_metric='auc',\n",
    "    scale_pos_weight = ratio,\n",
    "    n_jobs = 1\n",
    ")"
   ]
  },
  {
   "cell_type": "code",
   "execution_count": 23,
   "metadata": {},
   "outputs": [
    {
     "name": "stdout",
     "output_type": "stream",
     "text": [
      "[0]\tvalidation_0-auc:0.85550\n",
      "Will train until validation_0-auc hasn't improved in 15 rounds.\n",
      "[1]\tvalidation_0-auc:0.92117\n",
      "[2]\tvalidation_0-auc:0.92163\n",
      "[3]\tvalidation_0-auc:0.92095\n",
      "[4]\tvalidation_0-auc:0.91968\n",
      "[5]\tvalidation_0-auc:0.91889\n",
      "[6]\tvalidation_0-auc:0.91546\n",
      "[7]\tvalidation_0-auc:0.91354\n",
      "[8]\tvalidation_0-auc:0.91442\n",
      "[9]\tvalidation_0-auc:0.92905\n",
      "[10]\tvalidation_0-auc:0.93025\n",
      "[11]\tvalidation_0-auc:0.93091\n",
      "[12]\tvalidation_0-auc:0.93180\n",
      "[13]\tvalidation_0-auc:0.93211\n",
      "[14]\tvalidation_0-auc:0.93239\n",
      "[15]\tvalidation_0-auc:0.93244\n",
      "[16]\tvalidation_0-auc:0.93257\n",
      "[17]\tvalidation_0-auc:0.93175\n",
      "[18]\tvalidation_0-auc:0.93151\n",
      "[19]\tvalidation_0-auc:0.93216\n",
      "[20]\tvalidation_0-auc:0.93047\n",
      "[21]\tvalidation_0-auc:0.92883\n",
      "[22]\tvalidation_0-auc:0.92935\n",
      "[23]\tvalidation_0-auc:0.92966\n",
      "[24]\tvalidation_0-auc:0.93042\n",
      "[25]\tvalidation_0-auc:0.92982\n",
      "[26]\tvalidation_0-auc:0.92992\n",
      "[27]\tvalidation_0-auc:0.93004\n",
      "[28]\tvalidation_0-auc:0.92983\n",
      "[29]\tvalidation_0-auc:0.92849\n",
      "[30]\tvalidation_0-auc:0.92875\n",
      "[31]\tvalidation_0-auc:0.92931\n",
      "Stopping. Best iteration:\n",
      "[16]\tvalidation_0-auc:0.93257\n",
      "\n"
     ]
    },
    {
     "data": {
      "text/plain": [
       "XGBClassifier(base_score=0.5, booster='gbtree', colsample_bylevel=1,\n",
       "              colsample_bynode=1, colsample_bytree=1, eval_metric='auc',\n",
       "              gamma=0, gpu_id=-1, importance_type='gain',\n",
       "              interaction_constraints='', learning_rate=0.3, max_delta_step=0,\n",
       "              max_depth=3, min_child_weight=1, missing=nan,\n",
       "              monotone_constraints='()', n_estimators=1000, n_jobs=1,\n",
       "              num_parallel_tree=1, random_state=1337, reg_alpha=0, reg_lambda=1,\n",
       "              scale_pos_weight=87.6, seed=1337, subsample=1,\n",
       "              tree_method='exact', validate_parameters=1, verbosity=None)"
      ]
     },
     "execution_count": 23,
     "metadata": {},
     "output_type": "execute_result"
    }
   ],
   "source": [
    "model.fit(X_train_proc, y_train, eval_set=[(X_test_proc, y_test)], early_stopping_rounds=15)"
   ]
  },
  {
   "cell_type": "code",
   "execution_count": 24,
   "metadata": {},
   "outputs": [
    {
     "data": {
      "text/plain": [
       "array([0.339264, 0.458768, 0.      , 0.      , 0.      , 0.      , 0.086046, 0.      , 0.      , 0.059345, 0.      ,\n",
       "       0.056577], dtype=float32)"
      ]
     },
     "execution_count": 24,
     "metadata": {},
     "output_type": "execute_result"
    }
   ],
   "source": [
    "model.feature_importances_"
   ]
  },
  {
   "cell_type": "code",
   "execution_count": 25,
   "metadata": {},
   "outputs": [
    {
     "data": {
      "text/plain": [
       "['age_approx',\n",
       " 'prob',\n",
       " 'sex_female',\n",
       " 'sex_male',\n",
       " 'sex_unknown',\n",
       " 'anatom_site_general_challenge_head/neck',\n",
       " 'anatom_site_general_challenge_lower extremity',\n",
       " 'anatom_site_general_challenge_oral/genital',\n",
       " 'anatom_site_general_challenge_palms/soles',\n",
       " 'anatom_site_general_challenge_torso',\n",
       " 'anatom_site_general_challenge_unknown',\n",
       " 'anatom_site_general_challenge_upper extremity']"
      ]
     },
     "execution_count": 25,
     "metadata": {},
     "output_type": "execute_result"
    }
   ],
   "source": [
    "onehotnames = list(preprocessor.named_transformers_.cat['onehot'].get_feature_names())\n",
    "numericnames = list(preprocessor.named_transformers_.num)\n",
    "featurenames = numeric_cols + onehotnames\n",
    "\n",
    "newfeaturenames = featurenames\n",
    "for fi in range(len(factor_cols)):\n",
    "    newfeaturenames = [s.replace('x%d' % fi, factor_cols[fi]) for s in newfeaturenames]\n",
    "newfeaturenames"
   ]
  },
  {
   "cell_type": "code",
   "execution_count": 26,
   "metadata": {},
   "outputs": [
    {
     "data": {
      "text/html": [
       "<div>\n",
       "<style scoped>\n",
       "    .dataframe tbody tr th:only-of-type {\n",
       "        vertical-align: middle;\n",
       "    }\n",
       "\n",
       "    .dataframe tbody tr th {\n",
       "        vertical-align: top;\n",
       "    }\n",
       "\n",
       "    .dataframe thead th {\n",
       "        text-align: right;\n",
       "    }\n",
       "</style>\n",
       "<table border=\"1\" class=\"dataframe\">\n",
       "  <thead>\n",
       "    <tr style=\"text-align: right;\">\n",
       "      <th></th>\n",
       "      <th>name</th>\n",
       "      <th>importance</th>\n",
       "    </tr>\n",
       "  </thead>\n",
       "  <tbody>\n",
       "    <tr>\n",
       "      <th>1</th>\n",
       "      <td>prob</td>\n",
       "      <td>0.458768</td>\n",
       "    </tr>\n",
       "    <tr>\n",
       "      <th>0</th>\n",
       "      <td>age_approx</td>\n",
       "      <td>0.339264</td>\n",
       "    </tr>\n",
       "    <tr>\n",
       "      <th>6</th>\n",
       "      <td>anatom_site_general_challenge_lower extremity</td>\n",
       "      <td>0.086046</td>\n",
       "    </tr>\n",
       "    <tr>\n",
       "      <th>9</th>\n",
       "      <td>anatom_site_general_challenge_torso</td>\n",
       "      <td>0.059345</td>\n",
       "    </tr>\n",
       "    <tr>\n",
       "      <th>11</th>\n",
       "      <td>anatom_site_general_challenge_upper extremity</td>\n",
       "      <td>0.056577</td>\n",
       "    </tr>\n",
       "    <tr>\n",
       "      <th>2</th>\n",
       "      <td>sex_female</td>\n",
       "      <td>0.000000</td>\n",
       "    </tr>\n",
       "    <tr>\n",
       "      <th>3</th>\n",
       "      <td>sex_male</td>\n",
       "      <td>0.000000</td>\n",
       "    </tr>\n",
       "    <tr>\n",
       "      <th>4</th>\n",
       "      <td>sex_unknown</td>\n",
       "      <td>0.000000</td>\n",
       "    </tr>\n",
       "    <tr>\n",
       "      <th>5</th>\n",
       "      <td>anatom_site_general_challenge_head/neck</td>\n",
       "      <td>0.000000</td>\n",
       "    </tr>\n",
       "    <tr>\n",
       "      <th>7</th>\n",
       "      <td>anatom_site_general_challenge_oral/genital</td>\n",
       "      <td>0.000000</td>\n",
       "    </tr>\n",
       "    <tr>\n",
       "      <th>8</th>\n",
       "      <td>anatom_site_general_challenge_palms/soles</td>\n",
       "      <td>0.000000</td>\n",
       "    </tr>\n",
       "    <tr>\n",
       "      <th>10</th>\n",
       "      <td>anatom_site_general_challenge_unknown</td>\n",
       "      <td>0.000000</td>\n",
       "    </tr>\n",
       "  </tbody>\n",
       "</table>\n",
       "</div>"
      ],
      "text/plain": [
       "                                             name  importance\n",
       "1                                            prob    0.458768\n",
       "0                                      age_approx    0.339264\n",
       "6   anatom_site_general_challenge_lower extremity    0.086046\n",
       "9             anatom_site_general_challenge_torso    0.059345\n",
       "11  anatom_site_general_challenge_upper extremity    0.056577\n",
       "2                                      sex_female    0.000000\n",
       "3                                        sex_male    0.000000\n",
       "4                                     sex_unknown    0.000000\n",
       "5         anatom_site_general_challenge_head/neck    0.000000\n",
       "7      anatom_site_general_challenge_oral/genital    0.000000\n",
       "8       anatom_site_general_challenge_palms/soles    0.000000\n",
       "10          anatom_site_general_challenge_unknown    0.000000"
      ]
     },
     "execution_count": 26,
     "metadata": {},
     "output_type": "execute_result"
    }
   ],
   "source": [
    "pd.DataFrame({'name':newfeaturenames, 'importance':model.feature_importances_}).sort_values('importance', ascending=False)"
   ]
  },
  {
   "cell_type": "code",
   "execution_count": null,
   "metadata": {},
   "outputs": [],
   "source": []
  }
 ],
 "metadata": {
  "environment": {
   "name": "pytorch-gpu.1-4.m48",
   "type": "gcloud",
   "uri": "gcr.io/deeplearning-platform-release/pytorch-gpu.1-4:m48"
  },
  "kernelspec": {
   "display_name": "Python 3",
   "language": "python",
   "name": "python3"
  },
  "language_info": {
   "codemirror_mode": {
    "name": "ipython",
    "version": 3
   },
   "file_extension": ".py",
   "mimetype": "text/x-python",
   "name": "python",
   "nbconvert_exporter": "python",
   "pygments_lexer": "ipython3",
   "version": "3.7.6"
  }
 },
 "nbformat": 4,
 "nbformat_minor": 4
}
