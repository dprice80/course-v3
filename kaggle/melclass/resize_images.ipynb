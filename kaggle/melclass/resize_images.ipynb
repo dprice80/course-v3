{
 "cells": [
  {
   "cell_type": "markdown",
   "metadata": {},
   "source": [
    "# Preprocess Images"
   ]
  },
  {
   "cell_type": "code",
   "execution_count": 3,
   "metadata": {},
   "outputs": [],
   "source": [
    "import PIL\n",
    "from PIL import Image\n",
    "basewidth = 300\n",
    "import glob\n",
    "import os\n",
    "import numpy as np"
   ]
  },
  {
   "cell_type": "code",
   "execution_count": 6,
   "metadata": {},
   "outputs": [],
   "source": [
    "\n",
    "img = Image.open('/home/jupyter/.fastai/data/melclass/jpeg/train/ISIC_5001123.jpg')"
   ]
  },
  {
   "cell_type": "code",
   "execution_count": 9,
   "metadata": {},
   "outputs": [
    {
     "data": {
      "text/plain": [
       "[5184, 3456, 1]"
      ]
     },
     "execution_count": 9,
     "metadata": {},
     "output_type": "execute_result"
    }
   ],
   "source": [
    "list(img.size) + [1]"
   ]
  },
  {
   "cell_type": "code",
   "execution_count": 10,
   "metadata": {},
   "outputs": [],
   "source": [
    "def resize_images(imlist, imsaveloc, sz):\n",
    "    for impath in imlist:\n",
    "        imname = impath.split('/')[-1][:-4]\n",
    "        img = Image.open(impath)\n",
    "        if np.min(list(img.size) + [sz]) == sz:\n",
    "            wpercent = (basewidth / float(img.size[0]))\n",
    "            hsize = int((float(img.size[1]) * float(wpercent)))\n",
    "            img = img.resize((sz, hsize), PIL.Image.ANTIALIAS)\n",
    "            img.save(imsaveloc % imname)\n",
    "            print('Saved: ' + imname)\n",
    "        else:\n",
    "            print('Skipped: ' + imname)"
   ]
  },
  {
   "cell_type": "code",
   "execution_count": 12,
   "metadata": {},
   "outputs": [
    {
     "name": "stdout",
     "output_type": "stream",
     "text": [
      "Skipped: ISIC_5557806\n",
      "Saved: ISIC_1281431\n",
      "Saved: ISIC_9572421\n",
      "Saved: ISIC_1318781\n",
      "Saved: ISIC_8096907\n",
      "Saved: ISIC_2452083\n",
      "Saved: ISIC_9283914\n",
      "Saved: ISIC_9965754\n",
      "Skipped: ISIC_8157624\n",
      "Saved: ISIC_9792253\n",
      "Saved: ISIC_3369104\n",
      "Saved: ISIC_2837876\n",
      "Skipped: ISIC_5239607\n",
      "Skipped: ISIC_1639570\n",
      "Saved: ISIC_2688897\n",
      "Saved: ISIC_7595826\n",
      "Saved: ISIC_0728868\n",
      "Skipped: ISIC_5833229\n",
      "Skipped: ISIC_6438355\n",
      "Saved: ISIC_1199236\n",
      "Saved: ISIC_4026019\n",
      "Saved: ISIC_6575414\n",
      "Skipped: ISIC_8947924\n",
      "Saved: ISIC_1296663\n",
      "Saved: ISIC_0268633\n",
      "Saved: ISIC_0502582\n",
      "Skipped: ISIC_1826094\n",
      "Saved: ISIC_3671169\n",
      "Saved: ISIC_9663140\n",
      "Saved: ISIC_8705071\n",
      "Saved: ISIC_2364385\n",
      "Saved: ISIC_5186059\n",
      "Skipped: ISIC_0619848\n",
      "Saved: ISIC_1443134\n",
      "Saved: ISIC_6464378\n",
      "Saved: ISIC_4457587\n",
      "Saved: ISIC_8994153\n",
      "Saved: ISIC_0780947\n",
      "Saved: ISIC_7327423\n",
      "Saved: ISIC_7663033\n",
      "Saved: ISIC_4547148\n",
      "Saved: ISIC_2823287\n",
      "Saved: ISIC_6704130\n",
      "Saved: ISIC_1110949\n",
      "Saved: ISIC_8667319\n",
      "Saved: ISIC_8794314\n",
      "Saved: ISIC_9960578\n",
      "Saved: ISIC_9837207\n",
      "Skipped: ISIC_1543772\n",
      "Saved: ISIC_5467675\n",
      "Saved: ISIC_8222134\n",
      "Saved: ISIC_8459354\n",
      "Saved: ISIC_4768491\n",
      "Saved: ISIC_1204284\n",
      "Saved: ISIC_2178583\n",
      "Saved: ISIC_8394715\n",
      "Saved: ISIC_4919503\n",
      "Skipped: ISIC_3459448\n",
      "Saved: ISIC_9007206\n",
      "Saved: ISIC_2069179\n",
      "Saved: ISIC_7353973\n",
      "Saved: ISIC_1151910\n",
      "Saved: ISIC_5458166\n",
      "Skipped: ISIC_1930598\n",
      "Skipped: ISIC_0220461\n",
      "Saved: ISIC_9906218\n",
      "Saved: ISIC_5944377\n",
      "Saved: ISIC_1412137\n",
      "Saved: ISIC_8431648\n",
      "Saved: ISIC_8354723\n",
      "Saved: ISIC_8943344\n",
      "Skipped: ISIC_6948604\n",
      "Skipped: ISIC_0928264\n",
      "Saved: ISIC_6533561\n",
      "Saved: ISIC_5469302\n",
      "Skipped: ISIC_8706441\n",
      "Saved: ISIC_0818550\n",
      "Saved: ISIC_1207789\n",
      "Skipped: ISIC_0190308\n",
      "Saved: ISIC_5736346\n",
      "Saved: ISIC_7335835\n",
      "Saved: ISIC_8777866\n",
      "Saved: ISIC_9032302\n",
      "Saved: ISIC_6927916\n",
      "Skipped: ISIC_8424467\n",
      "Saved: ISIC_0846205\n",
      "Saved: ISIC_7837256\n",
      "Saved: ISIC_3030065\n",
      "Saved: ISIC_5970338\n",
      "Saved: ISIC_3600802\n",
      "Saved: ISIC_6299415\n",
      "Saved: ISIC_7800750\n",
      "Skipped: ISIC_3804784\n",
      "Saved: ISIC_9138481\n",
      "Saved: ISIC_4918571\n",
      "Saved: ISIC_8077943\n"
     ]
    },
    {
     "ename": "KeyboardInterrupt",
     "evalue": "",
     "output_type": "error",
     "traceback": [
      "\u001b[0;31m---------------------------------------------------------------------------\u001b[0m",
      "\u001b[0;31mKeyboardInterrupt\u001b[0m                         Traceback (most recent call last)",
      "\u001b[0;32m<ipython-input-12-8da580a391e7>\u001b[0m in \u001b[0;36m<module>\u001b[0;34m\u001b[0m\n\u001b[1;32m      2\u001b[0m     \u001b[0mimlist\u001b[0m \u001b[0;34m=\u001b[0m \u001b[0mglob\u001b[0m\u001b[0;34m.\u001b[0m\u001b[0mglob\u001b[0m\u001b[0;34m(\u001b[0m\u001b[0;34m\"/home/jupyter/.fastai/data/melclass/jpeg/train/*.jpg\"\u001b[0m\u001b[0;34m)\u001b[0m\u001b[0;34m,\u001b[0m\u001b[0;34m\u001b[0m\u001b[0;34m\u001b[0m\u001b[0m\n\u001b[1;32m      3\u001b[0m     \u001b[0mimsaveloc\u001b[0m \u001b[0;34m=\u001b[0m \u001b[0;34m'/home/jupyter/.fastai/data/melclass/jpeg/train_resized_1000/%s.jpg'\u001b[0m\u001b[0;34m,\u001b[0m\u001b[0;34m\u001b[0m\u001b[0;34m\u001b[0m\u001b[0m\n\u001b[0;32m----> 4\u001b[0;31m     \u001b[0msz\u001b[0m\u001b[0;34m=\u001b[0m\u001b[0;36m1000\u001b[0m\u001b[0;34m\u001b[0m\u001b[0;34m\u001b[0m\u001b[0m\n\u001b[0m\u001b[1;32m      5\u001b[0m )\n\u001b[1;32m      6\u001b[0m \u001b[0;34m\u001b[0m\u001b[0m\n",
      "\u001b[0;32m<ipython-input-10-03d1ad8df1a6>\u001b[0m in \u001b[0;36mresize_images\u001b[0;34m(imlist, imsaveloc, sz)\u001b[0m\n\u001b[1;32m      6\u001b[0m             \u001b[0mwpercent\u001b[0m \u001b[0;34m=\u001b[0m \u001b[0;34m(\u001b[0m\u001b[0mbasewidth\u001b[0m \u001b[0;34m/\u001b[0m \u001b[0mfloat\u001b[0m\u001b[0;34m(\u001b[0m\u001b[0mimg\u001b[0m\u001b[0;34m.\u001b[0m\u001b[0msize\u001b[0m\u001b[0;34m[\u001b[0m\u001b[0;36m0\u001b[0m\u001b[0;34m]\u001b[0m\u001b[0;34m)\u001b[0m\u001b[0;34m)\u001b[0m\u001b[0;34m\u001b[0m\u001b[0;34m\u001b[0m\u001b[0m\n\u001b[1;32m      7\u001b[0m             \u001b[0mhsize\u001b[0m \u001b[0;34m=\u001b[0m \u001b[0mint\u001b[0m\u001b[0;34m(\u001b[0m\u001b[0;34m(\u001b[0m\u001b[0mfloat\u001b[0m\u001b[0;34m(\u001b[0m\u001b[0mimg\u001b[0m\u001b[0;34m.\u001b[0m\u001b[0msize\u001b[0m\u001b[0;34m[\u001b[0m\u001b[0;36m1\u001b[0m\u001b[0;34m]\u001b[0m\u001b[0;34m)\u001b[0m \u001b[0;34m*\u001b[0m \u001b[0mfloat\u001b[0m\u001b[0;34m(\u001b[0m\u001b[0mwpercent\u001b[0m\u001b[0;34m)\u001b[0m\u001b[0;34m)\u001b[0m\u001b[0;34m)\u001b[0m\u001b[0;34m\u001b[0m\u001b[0;34m\u001b[0m\u001b[0m\n\u001b[0;32m----> 8\u001b[0;31m             \u001b[0mimg\u001b[0m \u001b[0;34m=\u001b[0m \u001b[0mimg\u001b[0m\u001b[0;34m.\u001b[0m\u001b[0mresize\u001b[0m\u001b[0;34m(\u001b[0m\u001b[0;34m(\u001b[0m\u001b[0msz\u001b[0m\u001b[0;34m,\u001b[0m \u001b[0mhsize\u001b[0m\u001b[0;34m)\u001b[0m\u001b[0;34m,\u001b[0m \u001b[0mPIL\u001b[0m\u001b[0;34m.\u001b[0m\u001b[0mImage\u001b[0m\u001b[0;34m.\u001b[0m\u001b[0mANTIALIAS\u001b[0m\u001b[0;34m)\u001b[0m\u001b[0;34m\u001b[0m\u001b[0;34m\u001b[0m\u001b[0m\n\u001b[0m\u001b[1;32m      9\u001b[0m             \u001b[0mimg\u001b[0m\u001b[0;34m.\u001b[0m\u001b[0msave\u001b[0m\u001b[0;34m(\u001b[0m\u001b[0mimsaveloc\u001b[0m \u001b[0;34m%\u001b[0m \u001b[0mimname\u001b[0m\u001b[0;34m)\u001b[0m\u001b[0;34m\u001b[0m\u001b[0;34m\u001b[0m\u001b[0m\n\u001b[1;32m     10\u001b[0m             \u001b[0mprint\u001b[0m\u001b[0;34m(\u001b[0m\u001b[0;34m'Saved: '\u001b[0m \u001b[0;34m+\u001b[0m \u001b[0mimname\u001b[0m\u001b[0;34m)\u001b[0m\u001b[0;34m\u001b[0m\u001b[0;34m\u001b[0m\u001b[0m\n",
      "\u001b[0;32m/opt/conda/lib/python3.7/site-packages/PIL/Image.py\u001b[0m in \u001b[0;36mresize\u001b[0;34m(self, size, resample, box, reducing_gap)\u001b[0m\n\u001b[1;32m   1884\u001b[0m             \u001b[0;32mreturn\u001b[0m \u001b[0mim\u001b[0m\u001b[0;34m.\u001b[0m\u001b[0mconvert\u001b[0m\u001b[0;34m(\u001b[0m\u001b[0mself\u001b[0m\u001b[0;34m.\u001b[0m\u001b[0mmode\u001b[0m\u001b[0;34m)\u001b[0m\u001b[0;34m\u001b[0m\u001b[0;34m\u001b[0m\u001b[0m\n\u001b[1;32m   1885\u001b[0m \u001b[0;34m\u001b[0m\u001b[0m\n\u001b[0;32m-> 1886\u001b[0;31m         \u001b[0mself\u001b[0m\u001b[0;34m.\u001b[0m\u001b[0mload\u001b[0m\u001b[0;34m(\u001b[0m\u001b[0;34m)\u001b[0m\u001b[0;34m\u001b[0m\u001b[0;34m\u001b[0m\u001b[0m\n\u001b[0m\u001b[1;32m   1887\u001b[0m \u001b[0;34m\u001b[0m\u001b[0m\n\u001b[1;32m   1888\u001b[0m         \u001b[0;32mif\u001b[0m \u001b[0mreducing_gap\u001b[0m \u001b[0;32mis\u001b[0m \u001b[0;32mnot\u001b[0m \u001b[0;32mNone\u001b[0m \u001b[0;32mand\u001b[0m \u001b[0mresample\u001b[0m \u001b[0;34m!=\u001b[0m \u001b[0mNEAREST\u001b[0m\u001b[0;34m:\u001b[0m\u001b[0;34m\u001b[0m\u001b[0;34m\u001b[0m\u001b[0m\n",
      "\u001b[0;32m/opt/conda/lib/python3.7/site-packages/PIL/ImageFile.py\u001b[0m in \u001b[0;36mload\u001b[0;34m(self)\u001b[0m\n\u001b[1;32m    249\u001b[0m \u001b[0;34m\u001b[0m\u001b[0m\n\u001b[1;32m    250\u001b[0m                             \u001b[0mb\u001b[0m \u001b[0;34m=\u001b[0m \u001b[0mb\u001b[0m \u001b[0;34m+\u001b[0m \u001b[0ms\u001b[0m\u001b[0;34m\u001b[0m\u001b[0;34m\u001b[0m\u001b[0m\n\u001b[0;32m--> 251\u001b[0;31m                             \u001b[0mn\u001b[0m\u001b[0;34m,\u001b[0m \u001b[0merr_code\u001b[0m \u001b[0;34m=\u001b[0m \u001b[0mdecoder\u001b[0m\u001b[0;34m.\u001b[0m\u001b[0mdecode\u001b[0m\u001b[0;34m(\u001b[0m\u001b[0mb\u001b[0m\u001b[0;34m)\u001b[0m\u001b[0;34m\u001b[0m\u001b[0;34m\u001b[0m\u001b[0m\n\u001b[0m\u001b[1;32m    252\u001b[0m                             \u001b[0;32mif\u001b[0m \u001b[0mn\u001b[0m \u001b[0;34m<\u001b[0m \u001b[0;36m0\u001b[0m\u001b[0;34m:\u001b[0m\u001b[0;34m\u001b[0m\u001b[0;34m\u001b[0m\u001b[0m\n\u001b[1;32m    253\u001b[0m                                 \u001b[0;32mbreak\u001b[0m\u001b[0;34m\u001b[0m\u001b[0;34m\u001b[0m\u001b[0m\n",
      "\u001b[0;31mKeyboardInterrupt\u001b[0m: "
     ]
    }
   ],
   "source": [
    "resize_images(\n",
    "    imlist = glob.glob(\"/home/jupyter/.fastai/data/melclass/jpeg/train/*.jpg\"),\n",
    "    imsaveloc = '/home/jupyter/.fastai/data/melclass/jpeg/train_resized_1000/%s.jpg',\n",
    "    sz=1000\n",
    ")\n",
    "\n",
    "resize_images(\n",
    "    imlist = glob.glob(\"/home/jupyter/.fastai/data/melclass/jpeg/test/*.jpg\"),\n",
    "    imsaveloc = '/home/jupyter/.fastai/data/melclass/jpeg/test_resized_1000/%s.jpg',\n",
    "    sz=1000\n",
    ")"
   ]
  },
  {
   "cell_type": "code",
   "execution_count": null,
   "metadata": {},
   "outputs": [],
   "source": []
  }
 ],
 "metadata": {
  "environment": {
   "name": "pytorch-gpu.1-4.m48",
   "type": "gcloud",
   "uri": "gcr.io/deeplearning-platform-release/pytorch-gpu.1-4:m48"
  },
  "kernelspec": {
   "display_name": "Python 3",
   "language": "python",
   "name": "python3"
  },
  "language_info": {
   "codemirror_mode": {
    "name": "ipython",
    "version": 3
   },
   "file_extension": ".py",
   "mimetype": "text/x-python",
   "name": "python",
   "nbconvert_exporter": "python",
   "pygments_lexer": "ipython3",
   "version": "3.7.6"
  }
 },
 "nbformat": 4,
 "nbformat_minor": 4
}
