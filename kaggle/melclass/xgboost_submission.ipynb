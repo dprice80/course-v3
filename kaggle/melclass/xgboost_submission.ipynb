{
 "cells": [
  {
   "cell_type": "code",
   "execution_count": 19,
   "metadata": {},
   "outputs": [
    {
     "name": "stdout",
     "output_type": "stream",
     "text": [
      "Exception reporting mode: Plain\n"
     ]
    }
   ],
   "source": [
    "import pandas as pd\n",
    "\n",
    "import numpy as np\n",
    "from sklearn.compose import ColumnTransformer\n",
    "from sklearn.pipeline import Pipeline, FeatureUnion\n",
    "from sklearn.impute import SimpleImputer\n",
    "from sklearn.preprocessing import OneHotEncoder, StandardScaler, LabelEncoder\n",
    "from sklearn.model_selection import train_test_split\n",
    "from sklearn.metrics import roc_auc_score\n",
    "from sklearn.ensemble import (GradientBoostingClassifier, \n",
    "        RandomForestClassifier, RandomForestRegressor)\n",
    "from sklearn.base import BaseEstimator, TransformerMixin\n",
    "\n",
    "from fastai.vision import *\n",
    "from fastai.callbacks.hooks import *\n",
    "from fastai.utils.mem import *\n",
    "\n",
    "import matplotlib.pyplot as plt\n",
    "\n",
    "import xgboost as xgb\n",
    "\n",
    "%matplotlib inline\n",
    "%xmode Plain\n",
    "\n",
    "pd.set_option('display.max_columns', 100)\n",
    "np.random.seed(42)"
   ]
  },
  {
   "cell_type": "code",
   "execution_count": 20,
   "metadata": {},
   "outputs": [
    {
     "name": "stdout",
     "output_type": "stream",
     "text": [
      "     image_name  patient_id     sex  age_approx anatom_site_general_challenge  \\\n",
      "0  ISIC_2637011  IP_7279968    male        45.0                     head/neck   \n",
      "1  ISIC_0015719  IP_3075186  female        45.0               upper extremity   \n",
      "2  ISIC_0052212  IP_2842074  female        50.0               lower extremity   \n",
      "3  ISIC_0068279  IP_6890425  female        45.0                     head/neck   \n",
      "4  ISIC_0074268  IP_8723313  female        55.0               upper extremity   \n",
      "\n",
      "  diagnosis benign_malignant  target      prob  modclass  \n",
      "0   unknown           benign       0  0.000712         0  \n",
      "1   unknown           benign       0  0.001208         0  \n",
      "2     nevus           benign       0  0.000321         0  \n",
      "3   unknown           benign       0  0.001085         0  \n",
      "4   unknown           benign       0  0.003588         0  \n"
     ]
    }
   ],
   "source": [
    "path = Config.data_path()/'melclass'\n",
    "df = pd.read_csv(path/'predictions-resnet18-train.csv')\n",
    "\n",
    "print(df.head())"
   ]
  },
  {
   "cell_type": "code",
   "execution_count": 21,
   "metadata": {},
   "outputs": [],
   "source": [
    "# df.anatom_site_general_challenge.fillna('unknown', inplace=True)\n",
    "# df.sex.fillna('unknown', inplace=True)\n",
    "# df.age_approx.fillna(np.nanmean(df.age_approx), inplace=True)\n",
    "\n",
    "# df.isnull().sum()\n",
    "\n",
    "numeric_cols = ['age_approx']\n",
    "factor_cols = ['anatom_site_general_challenge']\n",
    "feature_cols = numeric_cols + factor_cols"
   ]
  },
  {
   "cell_type": "code",
   "execution_count": 22,
   "metadata": {},
   "outputs": [],
   "source": [
    "num_pipeline = Pipeline([\n",
    "    ('replacenans', SimpleImputer(missing_values=np.nan, strategy='median')),\n",
    "    ('std_scaler', StandardScaler())\n",
    "    ])\n",
    "\n",
    "cat_pipeline = Pipeline([\n",
    "    ('replacenans', SimpleImputer(missing_values=np.nan, strategy='constant', fill_value='unknown')),\n",
    "    ('onehot', OneHotEncoder(handle_unknown='ignore'))\n",
    "])\n",
    "\n",
    "preprocessor = ColumnTransformer([\n",
    "    # Input the numerical pipeline object as the processor (num_pipeline) for\n",
    "    # the numerical attributes (num_attribs)\n",
    "    # num_attribs and cat_attribs are lists of column names\n",
    "        (\"num\", num_pipeline, numeric_cols),\n",
    "        (\"cat\", cat_pipeline, factor_cols)\n",
    "    ])"
   ]
  },
  {
   "cell_type": "code",
   "execution_count": 23,
   "metadata": {},
   "outputs": [],
   "source": [
    "X_train, X_test, y_train, y_test = train_test_split(df, df['target'].values, \n",
    "    test_size = 0.5, random_state=42)\n",
    "\n",
    "X_proc = preprocessor.fit_transform(df[feature_cols])"
   ]
  },
  {
   "cell_type": "code",
   "execution_count": 24,
   "metadata": {},
   "outputs": [],
   "source": [
    "X_train_proc = preprocessor.transform(X_train[feature_cols])\n",
    "X_test_proc = preprocessor.transform(X_test[feature_cols])"
   ]
  },
  {
   "cell_type": "code",
   "execution_count": 25,
   "metadata": {},
   "outputs": [],
   "source": [
    "ratio = df.shape[0] / df.shape[1]\n",
    "\n",
    "model = xgb.XGBClassifier(\n",
    "    max_depth=3,\n",
    "    n_estimators=1000, \n",
    "    seed=1337, \n",
    "    learning_rate=0.3,\n",
    "    eval_metric='auc'\n",
    ")"
   ]
  },
  {
   "cell_type": "code",
   "execution_count": 26,
   "metadata": {},
   "outputs": [
    {
     "name": "stdout",
     "output_type": "stream",
     "text": [
      "[0]\tvalidation_0-auc:0.57620\n",
      "Will train until validation_0-auc hasn't improved in 15 rounds.\n",
      "[1]\tvalidation_0-auc:0.64458\n",
      "[2]\tvalidation_0-auc:0.64465\n",
      "[3]\tvalidation_0-auc:0.64535\n",
      "[4]\tvalidation_0-auc:0.64526\n",
      "[5]\tvalidation_0-auc:0.64818\n",
      "[6]\tvalidation_0-auc:0.66366\n",
      "[7]\tvalidation_0-auc:0.67298\n",
      "[8]\tvalidation_0-auc:0.67495\n",
      "[9]\tvalidation_0-auc:0.67654\n",
      "[10]\tvalidation_0-auc:0.68005\n",
      "[11]\tvalidation_0-auc:0.68171\n",
      "[12]\tvalidation_0-auc:0.68209\n",
      "[13]\tvalidation_0-auc:0.67893\n",
      "[14]\tvalidation_0-auc:0.67860\n",
      "[15]\tvalidation_0-auc:0.68243\n",
      "[16]\tvalidation_0-auc:0.68231\n",
      "[17]\tvalidation_0-auc:0.68063\n",
      "[18]\tvalidation_0-auc:0.68389\n",
      "[19]\tvalidation_0-auc:0.68284\n",
      "[20]\tvalidation_0-auc:0.68305\n",
      "[21]\tvalidation_0-auc:0.68464\n",
      "[22]\tvalidation_0-auc:0.68483\n",
      "[23]\tvalidation_0-auc:0.68388\n",
      "[24]\tvalidation_0-auc:0.68336\n",
      "[25]\tvalidation_0-auc:0.68367\n",
      "[26]\tvalidation_0-auc:0.68528\n",
      "[27]\tvalidation_0-auc:0.68450\n",
      "[28]\tvalidation_0-auc:0.68325\n",
      "[29]\tvalidation_0-auc:0.68351\n",
      "[30]\tvalidation_0-auc:0.68370\n",
      "[31]\tvalidation_0-auc:0.68397\n",
      "[32]\tvalidation_0-auc:0.68404\n",
      "[33]\tvalidation_0-auc:0.68443\n",
      "[34]\tvalidation_0-auc:0.68435\n",
      "[35]\tvalidation_0-auc:0.68435\n",
      "[36]\tvalidation_0-auc:0.68300\n",
      "[37]\tvalidation_0-auc:0.68293\n",
      "[38]\tvalidation_0-auc:0.68300\n",
      "[39]\tvalidation_0-auc:0.68263\n",
      "[40]\tvalidation_0-auc:0.68117\n",
      "[41]\tvalidation_0-auc:0.68088\n",
      "Stopping. Best iteration:\n",
      "[26]\tvalidation_0-auc:0.68528\n",
      "\n"
     ]
    },
    {
     "data": {
      "text/plain": [
       "XGBClassifier(base_score=0.5, booster='gbtree', colsample_bylevel=1,\n",
       "              colsample_bynode=1, colsample_bytree=1, eval_metric='auc',\n",
       "              gamma=0, gpu_id=-1, importance_type='gain',\n",
       "              interaction_constraints='', learning_rate=0.3, max_delta_step=0,\n",
       "              max_depth=3, min_child_weight=1, missing=nan,\n",
       "              monotone_constraints='()', n_estimators=1000, n_jobs=1,\n",
       "              num_parallel_tree=1, random_state=1337, reg_alpha=0, reg_lambda=1,\n",
       "              scale_pos_weight=1, seed=1337, subsample=1, tree_method='exact',\n",
       "              validate_parameters=1, verbosity=None)"
      ]
     },
     "execution_count": 26,
     "metadata": {},
     "output_type": "execute_result"
    }
   ],
   "source": [
    "model.fit(X_train_proc, y_train, eval_set=[(X_test_proc, y_test)], early_stopping_rounds=15)"
   ]
  },
  {
   "cell_type": "code",
   "execution_count": 27,
   "metadata": {},
   "outputs": [
    {
     "data": {
      "text/html": [
       "<div>\n",
       "<style scoped>\n",
       "    .dataframe tbody tr th:only-of-type {\n",
       "        vertical-align: middle;\n",
       "    }\n",
       "\n",
       "    .dataframe tbody tr th {\n",
       "        vertical-align: top;\n",
       "    }\n",
       "\n",
       "    .dataframe thead th {\n",
       "        text-align: right;\n",
       "    }\n",
       "</style>\n",
       "<table border=\"1\" class=\"dataframe\">\n",
       "  <thead>\n",
       "    <tr style=\"text-align: right;\">\n",
       "      <th></th>\n",
       "      <th>name</th>\n",
       "      <th>importance</th>\n",
       "    </tr>\n",
       "  </thead>\n",
       "  <tbody>\n",
       "    <tr>\n",
       "      <th>0</th>\n",
       "      <td>age_approx</td>\n",
       "      <td>0.306465</td>\n",
       "    </tr>\n",
       "    <tr>\n",
       "      <th>1</th>\n",
       "      <td>anatom_site_general_challenge_head/neck</td>\n",
       "      <td>0.161715</td>\n",
       "    </tr>\n",
       "    <tr>\n",
       "      <th>6</th>\n",
       "      <td>anatom_site_general_challenge_unknown</td>\n",
       "      <td>0.153441</td>\n",
       "    </tr>\n",
       "    <tr>\n",
       "      <th>2</th>\n",
       "      <td>anatom_site_general_challenge_lower extremity</td>\n",
       "      <td>0.097911</td>\n",
       "    </tr>\n",
       "    <tr>\n",
       "      <th>5</th>\n",
       "      <td>anatom_site_general_challenge_torso</td>\n",
       "      <td>0.085253</td>\n",
       "    </tr>\n",
       "    <tr>\n",
       "      <th>3</th>\n",
       "      <td>anatom_site_general_challenge_oral/genital</td>\n",
       "      <td>0.082927</td>\n",
       "    </tr>\n",
       "    <tr>\n",
       "      <th>7</th>\n",
       "      <td>anatom_site_general_challenge_upper extremity</td>\n",
       "      <td>0.072467</td>\n",
       "    </tr>\n",
       "    <tr>\n",
       "      <th>4</th>\n",
       "      <td>anatom_site_general_challenge_palms/soles</td>\n",
       "      <td>0.039822</td>\n",
       "    </tr>\n",
       "  </tbody>\n",
       "</table>\n",
       "</div>"
      ],
      "text/plain": [
       "                                            name  importance\n",
       "0                                     age_approx    0.306465\n",
       "1        anatom_site_general_challenge_head/neck    0.161715\n",
       "6          anatom_site_general_challenge_unknown    0.153441\n",
       "2  anatom_site_general_challenge_lower extremity    0.097911\n",
       "5            anatom_site_general_challenge_torso    0.085253\n",
       "3     anatom_site_general_challenge_oral/genital    0.082927\n",
       "7  anatom_site_general_challenge_upper extremity    0.072467\n",
       "4      anatom_site_general_challenge_palms/soles    0.039822"
      ]
     },
     "execution_count": 27,
     "metadata": {},
     "output_type": "execute_result"
    }
   ],
   "source": [
    "onehotnames = list(preprocessor.named_transformers_.cat['onehot'].get_feature_names())\n",
    "numericnames = list(preprocessor.named_transformers_.num)\n",
    "featurenames = numeric_cols + onehotnames\n",
    "\n",
    "newfeaturenames = featurenames\n",
    "for fi in range(len(factor_cols)):\n",
    "    newfeaturenames = [s.replace('x%d' % fi, factor_cols[fi]) for s in newfeaturenames]\n",
    "\n",
    "pd.DataFrame({\n",
    "    'name':newfeaturenames, \n",
    "    'importance':model.feature_importances_\n",
    "}).sort_values(\n",
    "    'importance', \n",
    "    ascending=False\n",
    ")"
   ]
  },
  {
   "cell_type": "code",
   "execution_count": 28,
   "metadata": {},
   "outputs": [],
   "source": [
    "dftest = pd.read_csv(path/'predictions-resnet18-test.csv')\n",
    "Xtest = preprocessor.transform(dftest[feature_cols])\n",
    "Xtrain_check = preprocessor.transform(df[feature_cols])"
   ]
  },
  {
   "cell_type": "code",
   "execution_count": 29,
   "metadata": {},
   "outputs": [],
   "source": [
    "target = model.predict(Xtest)\n",
    "target_check = model.predict(Xtrain_check)"
   ]
  },
  {
   "cell_type": "code",
   "execution_count": 30,
   "metadata": {},
   "outputs": [
    {
     "data": {
      "text/plain": [
       "0    33126\n",
       "dtype: int64"
      ]
     },
     "execution_count": 30,
     "metadata": {},
     "output_type": "execute_result"
    }
   ],
   "source": [
    "pd.Series(target_check).value_counts()\n",
    "# df['target'].value_counts()"
   ]
  },
  {
   "cell_type": "code",
   "execution_count": 31,
   "metadata": {},
   "outputs": [
    {
     "data": {
      "text/html": [
       "<div>\n",
       "<style scoped>\n",
       "    .dataframe tbody tr th:only-of-type {\n",
       "        vertical-align: middle;\n",
       "    }\n",
       "\n",
       "    .dataframe tbody tr th {\n",
       "        vertical-align: top;\n",
       "    }\n",
       "\n",
       "    .dataframe thead th {\n",
       "        text-align: right;\n",
       "    }\n",
       "</style>\n",
       "<table border=\"1\" class=\"dataframe\">\n",
       "  <thead>\n",
       "    <tr style=\"text-align: right;\">\n",
       "      <th></th>\n",
       "      <th>image_name</th>\n",
       "      <th>target</th>\n",
       "    </tr>\n",
       "  </thead>\n",
       "  <tbody>\n",
       "    <tr>\n",
       "      <th>0</th>\n",
       "      <td>ISIC_0052060</td>\n",
       "      <td>0</td>\n",
       "    </tr>\n",
       "    <tr>\n",
       "      <th>1</th>\n",
       "      <td>ISIC_0052349</td>\n",
       "      <td>0</td>\n",
       "    </tr>\n",
       "    <tr>\n",
       "      <th>2</th>\n",
       "      <td>ISIC_0058510</td>\n",
       "      <td>0</td>\n",
       "    </tr>\n",
       "    <tr>\n",
       "      <th>3</th>\n",
       "      <td>ISIC_0073313</td>\n",
       "      <td>0</td>\n",
       "    </tr>\n",
       "    <tr>\n",
       "      <th>4</th>\n",
       "      <td>ISIC_0073502</td>\n",
       "      <td>0</td>\n",
       "    </tr>\n",
       "  </tbody>\n",
       "</table>\n",
       "</div>"
      ],
      "text/plain": [
       "     image_name  target\n",
       "0  ISIC_0052060       0\n",
       "1  ISIC_0052349       0\n",
       "2  ISIC_0058510       0\n",
       "3  ISIC_0073313       0\n",
       "4  ISIC_0073502       0"
      ]
     },
     "execution_count": 31,
     "metadata": {},
     "output_type": "execute_result"
    }
   ],
   "source": [
    "dfsubmit = pd.DataFrame({'image_name': dftest.image_name, 'target': target})\n",
    "dfsubmit.head()"
   ]
  },
  {
   "cell_type": "code",
   "execution_count": 32,
   "metadata": {},
   "outputs": [
    {
     "data": {
      "text/plain": [
       "0    10982\n",
       "Name: target, dtype: int64"
      ]
     },
     "execution_count": 32,
     "metadata": {},
     "output_type": "execute_result"
    }
   ],
   "source": [
    "dfsubmit.target.value_counts()"
   ]
  },
  {
   "cell_type": "code",
   "execution_count": null,
   "metadata": {},
   "outputs": [],
   "source": [
    "import subprocess as sp\n",
    "dfsubmit.to_csv(path/'submission1.csv', index=False)\n",
    "p = sp.run([\n",
    "    'kaggle', 'competitions', 'submit',\n",
    "    'siim-isic-melanoma-classification',\n",
    "    '-f', path/'submission1.csv',\n",
    "    '-m', '\"test submission API\"'\n",
    "    ], stdout=subprocess.PIPE, stderr=subprocess.PIPE)\n",
    "print(p.stdout.decode('utf-8'))\n",
    "print(p.stderr.decode('utf-8'))"
   ]
  },
  {
   "cell_type": "code",
   "execution_count": null,
   "metadata": {},
   "outputs": [],
   "source": [
    "print(p.stdout.decode('utf-8'))"
   ]
  },
  {
   "cell_type": "code",
   "execution_count": null,
   "metadata": {},
   "outputs": [],
   "source": [
    "dfsubmit.target.value_counts()"
   ]
  },
  {
   "cell_type": "code",
   "execution_count": null,
   "metadata": {},
   "outputs": [],
   "source": []
  }
 ],
 "metadata": {
  "environment": {
   "name": "pytorch-gpu.1-4.m48",
   "type": "gcloud",
   "uri": "gcr.io/deeplearning-platform-release/pytorch-gpu.1-4:m48"
  },
  "kernelspec": {
   "display_name": "Python 3",
   "language": "python",
   "name": "python3"
  },
  "language_info": {
   "codemirror_mode": {
    "name": "ipython",
    "version": 3
   },
   "file_extension": ".py",
   "mimetype": "text/x-python",
   "name": "python",
   "nbconvert_exporter": "python",
   "pygments_lexer": "ipython3",
   "version": "3.7.6"
  }
 },
 "nbformat": 4,
 "nbformat_minor": 4
}
