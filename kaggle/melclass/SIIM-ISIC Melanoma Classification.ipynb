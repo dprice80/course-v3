{
 "cells": [
  {
   "cell_type": "code",
   "execution_count": 1,
   "metadata": {},
   "outputs": [],
   "source": [
    "%reload_ext autoreload\n",
    "%autoreload 2\n",
    "%matplotlib inline"
   ]
  },
  {
   "cell_type": "code",
   "execution_count": 2,
   "metadata": {},
   "outputs": [],
   "source": [
    "from fastai.vision import *\n",
    "from fastai.callbacks.hooks import *\n",
    "from fastai.utils.mem import *\n",
    "import pandas as pd"
   ]
  },
  {
   "cell_type": "code",
   "execution_count": 3,
   "metadata": {},
   "outputs": [],
   "source": [
    "# Download the data - 106 GB !!!\n",
    "# !kaggle competitions download -c siim-isic-melanoma-classification"
   ]
  },
  {
   "cell_type": "code",
   "execution_count": 4,
   "metadata": {},
   "outputs": [],
   "source": [
    "path = Config.data_path()/'melclass'\n",
    "path.mkdir(parents=True, exist_ok=True)\n",
    "path\n",
    "bs = 64\n",
    "imsize = 224\n",
    "valid_pct = .5\n",
    "np.random.seed(42)"
   ]
  },
  {
   "cell_type": "code",
   "execution_count": 5,
   "metadata": {},
   "outputs": [],
   "source": [
    "data = ImageDataBunch.from_csv(\n",
    "    path, \n",
    "    'jpeg/train', \n",
    "    csv_labels='subset.csv',\n",
    "    suffix='.jpg', \n",
    "    valid_pct=valid_pct,\n",
    "    fn_col=0,\n",
    "    label_col=7,\n",
    "    size=imsize, # 224\n",
    "    bs=bs,\n",
    "    ds_tfms=get_transforms()\n",
    ").normalize(imagenet_stats) # need to use imagenet stats because this is the one the model was trained with"
   ]
  },
  {
   "cell_type": "code",
   "execution_count": 6,
   "metadata": {},
   "outputs": [],
   "source": [
    "# data.show_batch(rows=5, figsize=(7,6))"
   ]
  },
  {
   "cell_type": "code",
   "execution_count": 7,
   "metadata": {},
   "outputs": [
    {
     "name": "stdout",
     "output_type": "stream",
     "text": [
      "[0, 1]\n"
     ]
    },
    {
     "data": {
      "text/plain": [
       "(2, 2)"
      ]
     },
     "execution_count": 7,
     "metadata": {},
     "output_type": "execute_result"
    }
   ],
   "source": [
    "print(data.classes)\n",
    "len(data.classes),data.c"
   ]
  },
  {
   "cell_type": "code",
   "execution_count": 8,
   "metadata": {},
   "outputs": [],
   "source": [
    "# learn = cnn_learner(data, models.resnet50, metrics=[error_rate, AUROC()])\n",
    "# Could try resnet101 or 152. Also densenet etc."
   ]
  },
  {
   "cell_type": "code",
   "execution_count": 9,
   "metadata": {},
   "outputs": [],
   "source": [
    "# interp = ClassificationInterpretation.from_learner(learn)\n",
    "# losses,idxs = interp.top_losses()\n",
    "# len(data.valid_ds)==len(losses)==len(idxs)"
   ]
  },
  {
   "cell_type": "code",
   "execution_count": 10,
   "metadata": {},
   "outputs": [],
   "source": [
    "# interp.plot_top_losses(9, figsize=(15,11))"
   ]
  },
  {
   "cell_type": "code",
   "execution_count": 11,
   "metadata": {},
   "outputs": [],
   "source": [
    "# interp.plot_confusion_matrix(figsize=(12,12), dpi=60)"
   ]
  },
  {
   "cell_type": "code",
   "execution_count": 12,
   "metadata": {},
   "outputs": [],
   "source": [
    "# learn.lr_find()"
   ]
  },
  {
   "cell_type": "code",
   "execution_count": 13,
   "metadata": {},
   "outputs": [],
   "source": [
    "# learn.recorder.plot()"
   ]
  },
  {
   "cell_type": "code",
   "execution_count": 14,
   "metadata": {},
   "outputs": [],
   "source": [
    "# learn.unfreeze()\n",
    "# s = slice(1e-3/(2.6**4),1e-3)\n",
    "# learn.fit_one_cycle(10, max_lr=s)\n",
    "# # learn.save('melclass-stage-2-resnet50');"
   ]
  },
  {
   "cell_type": "markdown",
   "metadata": {},
   "source": [
    "Note, can also use freeze_to to unfreeze last x layers (e.g. freeze_to(-2) to unfreeze the last two layers)) - perhaps only relevant for NLP"
   ]
  },
  {
   "cell_type": "markdown",
   "metadata": {},
   "source": [
    "OK now continue to train overnight using the entire training data."
   ]
  },
  {
   "cell_type": "code",
   "execution_count": 15,
   "metadata": {},
   "outputs": [],
   "source": [
    "data = ImageDataBunch.from_csv(\n",
    "    path, \n",
    "    'jpeg/train_resized', \n",
    "    csv_labels='train.csv', # use full training data\n",
    "    suffix='.jpg', \n",
    "    valid_pct=valid_pct,\n",
    "    fn_col=0,\n",
    "    label_col=7,\n",
    "    size=imsize, # 224\n",
    "    bs=bs,\n",
    "    ds_tfms=get_transforms()\n",
    ").normalize(imagenet_stats) # need to use imagenet stats because this is the one the model was trained with\n",
    "\n",
    "learn = cnn_learner(data, models.resnet50, metrics=[error_rate, AUROC()])"
   ]
  },
  {
   "cell_type": "code",
   "execution_count": 16,
   "metadata": {},
   "outputs": [
    {
     "data": {
      "text/html": [
       "<table border=\"1\" class=\"dataframe\">\n",
       "  <thead>\n",
       "    <tr style=\"text-align: left;\">\n",
       "      <th>epoch</th>\n",
       "      <th>train_loss</th>\n",
       "      <th>valid_loss</th>\n",
       "      <th>error_rate</th>\n",
       "      <th>auroc</th>\n",
       "      <th>time</th>\n",
       "    </tr>\n",
       "  </thead>\n",
       "  <tbody>\n",
       "    <tr>\n",
       "      <td>0</td>\n",
       "      <td>0.259109</td>\n",
       "      <td>0.124215</td>\n",
       "      <td>0.019079</td>\n",
       "      <td>0.619649</td>\n",
       "      <td>01:33</td>\n",
       "    </tr>\n",
       "  </tbody>\n",
       "</table>"
      ],
      "text/plain": [
       "<IPython.core.display.HTML object>"
      ]
     },
     "metadata": {},
     "output_type": "display_data"
    }
   ],
   "source": [
    "s = slice(1e-3/(2.6**4),1e-3)\n",
    "learn.fit_one_cycle(1, s)"
   ]
  },
  {
   "cell_type": "code",
   "execution_count": 17,
   "metadata": {},
   "outputs": [],
   "source": [
    "learn.export(file = 'resnet50.pkl')"
   ]
  },
  {
   "cell_type": "code",
   "execution_count": 18,
   "metadata": {},
   "outputs": [
    {
     "data": {
      "text/html": [
       "<table border=\"1\" class=\"dataframe\">\n",
       "  <thead>\n",
       "    <tr style=\"text-align: left;\">\n",
       "      <th>epoch</th>\n",
       "      <th>train_loss</th>\n",
       "      <th>valid_loss</th>\n",
       "      <th>error_rate</th>\n",
       "      <th>auroc</th>\n",
       "      <th>time</th>\n",
       "    </tr>\n",
       "  </thead>\n",
       "  <tbody>\n",
       "    <tr>\n",
       "      <td>0</td>\n",
       "      <td>0.119720</td>\n",
       "      <td>0.083752</td>\n",
       "      <td>0.019501</td>\n",
       "      <td>0.774213</td>\n",
       "      <td>01:53</td>\n",
       "    </tr>\n",
       "    <tr>\n",
       "      <td>1</td>\n",
       "      <td>0.089170</td>\n",
       "      <td>0.086419</td>\n",
       "      <td>0.017932</td>\n",
       "      <td>0.787217</td>\n",
       "      <td>01:52</td>\n",
       "    </tr>\n",
       "    <tr>\n",
       "      <td>2</td>\n",
       "      <td>0.072914</td>\n",
       "      <td>0.077312</td>\n",
       "      <td>0.017932</td>\n",
       "      <td>0.853935</td>\n",
       "      <td>01:52</td>\n",
       "    </tr>\n",
       "    <tr>\n",
       "      <td>3</td>\n",
       "      <td>0.066137</td>\n",
       "      <td>0.068513</td>\n",
       "      <td>0.017811</td>\n",
       "      <td>0.881042</td>\n",
       "      <td>01:52</td>\n",
       "    </tr>\n",
       "    <tr>\n",
       "      <td>4</td>\n",
       "      <td>0.059681</td>\n",
       "      <td>0.068686</td>\n",
       "      <td>0.017932</td>\n",
       "      <td>0.879539</td>\n",
       "      <td>01:52</td>\n",
       "    </tr>\n",
       "  </tbody>\n",
       "</table>"
      ],
      "text/plain": [
       "<IPython.core.display.HTML object>"
      ]
     },
     "metadata": {},
     "output_type": "display_data"
    }
   ],
   "source": [
    "learn.unfreeze()\n",
    "\n",
    "learn.fit_one_cycle(5, max_lr=s, wd=1e-1)\n",
    "\n",
    "learn.save('melclass-stage-2-resnet50-full');\n",
    "learn.export(file = 'resnet50-stage2.pkl')"
   ]
  },
  {
   "cell_type": "code",
   "execution_count": null,
   "metadata": {},
   "outputs": [],
   "source": [
    "import numpy\n",
    "\n",
    "def create_preds(folderpath, imset):\n",
    "    imlist = ImageList.from_csv(\n",
    "        path/('jpeg/%s' % folderpath),\n",
    "        csv_name = path/(imset),\n",
    "        suffix = '.jpg'\n",
    "    )\n",
    "\n",
    "    learner = load_learner(path, file = 'resnet50-stage2.pkl', test=imlist)\n",
    "    preds, y = learner.get_preds(ds_type = DatasetType.Test)\n",
    "\n",
    "    modclass = numpy.zeros(shape = preds.shape[0])\n",
    "    for i in range(preds.shape[0]):\n",
    "        modclass[i] = numpy.argmax(preds[i,:].numpy())\n",
    "\n",
    "    imagenames = [str(l).split('/')[-1].replace('.jpg','') for l in imlist.items]\n",
    "    predcol = [p for p in preds.numpy()[:,1]]\n",
    "    df_preds = pd.DataFrame({\n",
    "        'image_name':imagenames, \n",
    "        'prob': predcol, \n",
    "        'modclass': modclass.astype('int64')})\n",
    "    df_preds.head()\n",
    "\n",
    "    df = pd.read_csv(path/('%s' % imset))\n",
    "    dfout = df.merge(df_preds, on='image_name')\n",
    "    return dfout\n"
   ]
  },
  {
   "cell_type": "code",
   "execution_count": 20,
   "metadata": {},
   "outputs": [
    {
     "data": {
      "text/html": [],
      "text/plain": [
       "<IPython.core.display.HTML object>"
      ]
     },
     "metadata": {},
     "output_type": "display_data"
    }
   ],
   "source": [
    "dfouttrain = create_preds('train_resized','train.csv')"
   ]
  },
  {
   "cell_type": "code",
   "execution_count": 21,
   "metadata": {},
   "outputs": [
    {
     "data": {
      "text/html": [],
      "text/plain": [
       "<IPython.core.display.HTML object>"
      ]
     },
     "metadata": {},
     "output_type": "display_data"
    }
   ],
   "source": [
    "dfouttest = create_preds('test_resized','test.csv')"
   ]
  },
  {
   "cell_type": "code",
   "execution_count": 22,
   "metadata": {},
   "outputs": [
    {
     "data": {
      "text/html": [],
      "text/plain": [
       "<IPython.core.display.HTML object>"
      ]
     },
     "metadata": {},
     "output_type": "display_data"
    }
   ],
   "source": [
    "dfoutsubset = create_preds('train_resized','subset.csv')"
   ]
  },
  {
   "cell_type": "code",
   "execution_count": 29,
   "metadata": {},
   "outputs": [
    {
     "data": {
      "text/plain": [
       "0    32967\n",
       "1      159\n",
       "Name: modclass, dtype: int64"
      ]
     },
     "execution_count": 29,
     "metadata": {},
     "output_type": "execute_result"
    }
   ],
   "source": [
    "dfouttrain.modclass.value_counts()"
   ]
  },
  {
   "cell_type": "code",
   "execution_count": 24,
   "metadata": {},
   "outputs": [
    {
     "data": {
      "text/plain": [
       "0    10949\n",
       "1       33\n",
       "Name: modclass, dtype: int64"
      ]
     },
     "execution_count": 24,
     "metadata": {},
     "output_type": "execute_result"
    }
   ],
   "source": [
    "dfouttest.modclass.value_counts()"
   ]
  },
  {
   "cell_type": "code",
   "execution_count": 28,
   "metadata": {},
   "outputs": [
    {
     "data": {
      "text/plain": [
       "0    1646\n",
       "1     106\n",
       "Name: modclass, dtype: int64"
      ]
     },
     "execution_count": 28,
     "metadata": {},
     "output_type": "execute_result"
    }
   ],
   "source": [
    "dfoutsubset.modclass.value_counts()"
   ]
  },
  {
   "cell_type": "code",
   "execution_count": 25,
   "metadata": {},
   "outputs": [],
   "source": [
    "dfouttrain.to_csv(path/'predictions-resnet50-train.csv', index=False)\n",
    "dfouttest.to_csv(path/'predictions-resnet50-test.csv', index=False)"
   ]
  },
  {
   "cell_type": "code",
   "execution_count": 26,
   "metadata": {},
   "outputs": [
    {
     "data": {
      "text/html": [
       "<div>\n",
       "<style scoped>\n",
       "    .dataframe tbody tr th:only-of-type {\n",
       "        vertical-align: middle;\n",
       "    }\n",
       "\n",
       "    .dataframe tbody tr th {\n",
       "        vertical-align: top;\n",
       "    }\n",
       "\n",
       "    .dataframe thead th {\n",
       "        text-align: right;\n",
       "    }\n",
       "</style>\n",
       "<table border=\"1\" class=\"dataframe\">\n",
       "  <thead>\n",
       "    <tr style=\"text-align: right;\">\n",
       "      <th></th>\n",
       "      <th>image_name</th>\n",
       "      <th>patient_id</th>\n",
       "      <th>sex</th>\n",
       "      <th>age_approx</th>\n",
       "      <th>anatom_site_general_challenge</th>\n",
       "      <th>prob</th>\n",
       "      <th>modclass</th>\n",
       "    </tr>\n",
       "  </thead>\n",
       "  <tbody>\n",
       "    <tr>\n",
       "      <th>0</th>\n",
       "      <td>ISIC_0052060</td>\n",
       "      <td>IP_3579794</td>\n",
       "      <td>male</td>\n",
       "      <td>70.0</td>\n",
       "      <td>NaN</td>\n",
       "      <td>3.514509e-07</td>\n",
       "      <td>0</td>\n",
       "    </tr>\n",
       "    <tr>\n",
       "      <th>1</th>\n",
       "      <td>ISIC_0052349</td>\n",
       "      <td>IP_7782715</td>\n",
       "      <td>male</td>\n",
       "      <td>40.0</td>\n",
       "      <td>lower extremity</td>\n",
       "      <td>2.294691e-05</td>\n",
       "      <td>0</td>\n",
       "    </tr>\n",
       "    <tr>\n",
       "      <th>2</th>\n",
       "      <td>ISIC_0058510</td>\n",
       "      <td>IP_7960270</td>\n",
       "      <td>female</td>\n",
       "      <td>55.0</td>\n",
       "      <td>torso</td>\n",
       "      <td>1.331852e-03</td>\n",
       "      <td>0</td>\n",
       "    </tr>\n",
       "    <tr>\n",
       "      <th>3</th>\n",
       "      <td>ISIC_0073313</td>\n",
       "      <td>IP_6375035</td>\n",
       "      <td>female</td>\n",
       "      <td>50.0</td>\n",
       "      <td>torso</td>\n",
       "      <td>3.192749e-06</td>\n",
       "      <td>0</td>\n",
       "    </tr>\n",
       "    <tr>\n",
       "      <th>4</th>\n",
       "      <td>ISIC_0073502</td>\n",
       "      <td>IP_0589375</td>\n",
       "      <td>female</td>\n",
       "      <td>45.0</td>\n",
       "      <td>lower extremity</td>\n",
       "      <td>6.397128e-03</td>\n",
       "      <td>0</td>\n",
       "    </tr>\n",
       "    <tr>\n",
       "      <th>...</th>\n",
       "      <td>...</td>\n",
       "      <td>...</td>\n",
       "      <td>...</td>\n",
       "      <td>...</td>\n",
       "      <td>...</td>\n",
       "      <td>...</td>\n",
       "      <td>...</td>\n",
       "    </tr>\n",
       "    <tr>\n",
       "      <th>10977</th>\n",
       "      <td>ISIC_9992485</td>\n",
       "      <td>IP_4152479</td>\n",
       "      <td>male</td>\n",
       "      <td>40.0</td>\n",
       "      <td>torso</td>\n",
       "      <td>1.016208e-02</td>\n",
       "      <td>0</td>\n",
       "    </tr>\n",
       "    <tr>\n",
       "      <th>10978</th>\n",
       "      <td>ISIC_9996992</td>\n",
       "      <td>IP_4890115</td>\n",
       "      <td>male</td>\n",
       "      <td>35.0</td>\n",
       "      <td>torso</td>\n",
       "      <td>2.937184e-02</td>\n",
       "      <td>0</td>\n",
       "    </tr>\n",
       "    <tr>\n",
       "      <th>10979</th>\n",
       "      <td>ISIC_9997917</td>\n",
       "      <td>IP_2852390</td>\n",
       "      <td>male</td>\n",
       "      <td>25.0</td>\n",
       "      <td>upper extremity</td>\n",
       "      <td>5.906133e-02</td>\n",
       "      <td>0</td>\n",
       "    </tr>\n",
       "    <tr>\n",
       "      <th>10980</th>\n",
       "      <td>ISIC_9998234</td>\n",
       "      <td>IP_8861963</td>\n",
       "      <td>male</td>\n",
       "      <td>65.0</td>\n",
       "      <td>lower extremity</td>\n",
       "      <td>7.759741e-06</td>\n",
       "      <td>0</td>\n",
       "    </tr>\n",
       "    <tr>\n",
       "      <th>10981</th>\n",
       "      <td>ISIC_9999302</td>\n",
       "      <td>IP_6214039</td>\n",
       "      <td>male</td>\n",
       "      <td>30.0</td>\n",
       "      <td>upper extremity</td>\n",
       "      <td>6.293262e-03</td>\n",
       "      <td>0</td>\n",
       "    </tr>\n",
       "  </tbody>\n",
       "</table>\n",
       "<p>10982 rows × 7 columns</p>\n",
       "</div>"
      ],
      "text/plain": [
       "         image_name  patient_id     sex  age_approx  \\\n",
       "0      ISIC_0052060  IP_3579794    male        70.0   \n",
       "1      ISIC_0052349  IP_7782715    male        40.0   \n",
       "2      ISIC_0058510  IP_7960270  female        55.0   \n",
       "3      ISIC_0073313  IP_6375035  female        50.0   \n",
       "4      ISIC_0073502  IP_0589375  female        45.0   \n",
       "...             ...         ...     ...         ...   \n",
       "10977  ISIC_9992485  IP_4152479    male        40.0   \n",
       "10978  ISIC_9996992  IP_4890115    male        35.0   \n",
       "10979  ISIC_9997917  IP_2852390    male        25.0   \n",
       "10980  ISIC_9998234  IP_8861963    male        65.0   \n",
       "10981  ISIC_9999302  IP_6214039    male        30.0   \n",
       "\n",
       "      anatom_site_general_challenge          prob  modclass  \n",
       "0                               NaN  3.514509e-07         0  \n",
       "1                   lower extremity  2.294691e-05         0  \n",
       "2                             torso  1.331852e-03         0  \n",
       "3                             torso  3.192749e-06         0  \n",
       "4                   lower extremity  6.397128e-03         0  \n",
       "...                             ...           ...       ...  \n",
       "10977                         torso  1.016208e-02         0  \n",
       "10978                         torso  2.937184e-02         0  \n",
       "10979               upper extremity  5.906133e-02         0  \n",
       "10980               lower extremity  7.759741e-06         0  \n",
       "10981               upper extremity  6.293262e-03         0  \n",
       "\n",
       "[10982 rows x 7 columns]"
      ]
     },
     "execution_count": 26,
     "metadata": {},
     "output_type": "execute_result"
    }
   ],
   "source": [
    "dfouttest"
   ]
  },
  {
   "cell_type": "code",
   "execution_count": null,
   "metadata": {},
   "outputs": [],
   "source": []
  }
 ],
 "metadata": {
  "environment": {
   "name": "pytorch-gpu.1-4.m48",
   "type": "gcloud",
   "uri": "gcr.io/deeplearning-platform-release/pytorch-gpu.1-4:m48"
  },
  "kernelspec": {
   "display_name": "Python 3",
   "language": "python",
   "name": "python3"
  },
  "language_info": {
   "codemirror_mode": {
    "name": "ipython",
    "version": 3
   },
   "file_extension": ".py",
   "mimetype": "text/x-python",
   "name": "python",
   "nbconvert_exporter": "python",
   "pygments_lexer": "ipython3",
   "version": "3.7.6"
  }
 },
 "nbformat": 4,
 "nbformat_minor": 4
}
